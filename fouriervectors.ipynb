{
 "cells": [
  {
   "cell_type": "markdown",
   "metadata": {},
   "source": [
    "<!-- dom:TITLE: Exercises from Linear algebra, signal processing, and wavelets. A unified approach.\\\\ Python version -->\n",
    "# Exercises from Linear algebra, signal processing, and wavelets. A unified approach.\\\\ Python version\n",
    "<!-- dom:AUTHOR: \\O yvind Ryan -->\n",
    "<!-- Author: --> **\\O yvind Ryan**\n",
    "\n",
    "Date: **Jan 18, 2017**\n",
    "\n",
    "<!-- Externaldocuments: applinalg -->\n",
    "<!-- Mapping from exercise labels to numbers: label2numbers = {'ex:compareextimes': '2.24', 'dftmainex3': '2.18', 'dftmainex2': '2.17', 'ex:interpolant': '2.21', 'dftmainex': '2.16', 'ex:nonrecursivealg': '2.28'} -->\n",
    "\n",
    "\n",
    "\n",
    "\n",
    "\n",
    "# Sound and Fourier series\n",
    "# Digital sound and Discrete Fourier analysis\n",
    "\n",
    "\n",
    "<!-- --- begin exercise --- -->\n",
    "\n",
    "## Example 2.16: Using the DFT to adjust frequencies in sound\n",
    "<div id=\"dftmainex\"></div>\n",
    "<!-- keywords = ipynbfouriervectors; mfouriervectors -->"
   ]
  },
  {
   "cell_type": "code",
   "execution_count": 1,
   "metadata": {
    "collapsed": false
   },
   "outputs": [],
   "source": [
    "%matplotlib inline\n",
    "\n",
    "import os, sys\n",
    "sys.path.append(os.path.join(os.getcwd(), 'python'))\n",
    "from sound import *\n",
    "from forward_compress_reverse import *\n",
    "import matplotlib.pyplot as plt\n",
    "from time import time"
   ]
  },
  {
   "cell_type": "markdown",
   "metadata": {},
   "source": [
    "Let us test the function `forw_comp_rev_DFT` to listen to the lower frequencies in the audio sample file.\n",
    "We start with $L=13000$."
   ]
  },
  {
   "cell_type": "code",
   "execution_count": 2,
   "metadata": {
    "collapsed": false
   },
   "outputs": [],
   "source": [
    "x, fs = forw_comp_rev_DFT(L=13000, lower=1)\n",
    "play(x, fs)"
   ]
  },
  {
   "cell_type": "markdown",
   "metadata": {},
   "source": [
    "Then with $L=5000$."
   ]
  },
  {
   "cell_type": "code",
   "execution_count": 3,
   "metadata": {
    "collapsed": false
   },
   "outputs": [],
   "source": [
    "x, fs = forw_comp_rev_DFT(L=5000, lower=1)\n",
    "play(x, fs)"
   ]
  },
  {
   "cell_type": "markdown",
   "metadata": {},
   "source": [
    "With $L=13000$ you can hear the disturbance in the sound, but we have not lost that much even if about 90\\% of the DFT coefficients are dropped. \n",
    "The quality is much poorer when $L=5000$ (here we keep less than 5\\% of the DFT coefficients). \n",
    "However we can still recognize the song, and this suggests that most of the frequency information is contained in the lower frequencies.\n",
    "\n",
    "Let us then listen to higher frequencies instead. \n",
    "We start with $L=140000$."
   ]
  },
  {
   "cell_type": "code",
   "execution_count": 4,
   "metadata": {
    "collapsed": false
   },
   "outputs": [],
   "source": [
    "x, fs = forw_comp_rev_DFT(L=140000, lower=0)\n",
    "play(x, fs)"
   ]
  },
  {
   "cell_type": "markdown",
   "metadata": {},
   "source": [
    "Then with $L=100000$."
   ]
  },
  {
   "cell_type": "code",
   "execution_count": 5,
   "metadata": {
    "collapsed": false
   },
   "outputs": [],
   "source": [
    "x, fs = forw_comp_rev_DFT(L=100000, lower=0)\n",
    "play(x, fs)"
   ]
  },
  {
   "cell_type": "markdown",
   "metadata": {},
   "source": [
    "We find that we need very high values of $L$ to hear anything, suggesting again that most information is contained in the lowest frequencies.\n",
    "\n",
    "<!-- --- end exercise --- -->\n",
    "\n",
    "\n",
    "\n",
    "\n",
    "<!-- --- begin exercise --- -->\n",
    "\n",
    "## Example 2.17: Compression by zeroing out small DFT coefficients\n",
    "<div id=\"dftmainex2\"></div>\n",
    "<!-- keywords = ipynbfouriervectors; mfouriervectors -->\n",
    "\n",
    "We can achieve compression of a sound by setting small DFT coefficients which to zero. The idea is that frequencies with small values at the\n",
    "corresponding frequency indices contribute little to our perception of the sound, so that they can be discarded. As a result we obtain a sound with less frequency\n",
    "components, which is thus more suitable for compression. To test this in practice, we first need to set a threshold, which decides which frequencies to keep. \n",
    "This can then be sent to the function `forw_comp_rev_DFT` by means of the named parameter `threshold`. \n",
    "The function will now also write to the display the percentage of the DFT coefficients which were zeroed out.\n",
    "Let us first listen to the result when `threshold=20`."
   ]
  },
  {
   "cell_type": "code",
   "execution_count": 6,
   "metadata": {
    "collapsed": false
   },
   "outputs": [],
   "source": [
    "x, fs = forw_comp_rev_DFT(threshold=20)\n",
    "play(x, fs)"
   ]
  },
  {
   "cell_type": "markdown",
   "metadata": {},
   "source": [
    "Then for `threshold=70`."
   ]
  },
  {
   "cell_type": "code",
   "execution_count": 7,
   "metadata": {
    "collapsed": false
   },
   "outputs": [],
   "source": [
    "x, fs = forw_comp_rev_DFT(threshold=70)\n",
    "play(x, fs)"
   ]
  },
  {
   "cell_type": "markdown",
   "metadata": {},
   "source": [
    "<!-- --- end exercise --- -->\n",
    "\n",
    "\n",
    "\n",
    "\n",
    "<!-- --- begin exercise --- -->\n",
    "\n",
    "## Example 2.18: Compression by quantizing DFT coefficients\n",
    "<div id=\"dftmainex3\"></div>\n",
    "<!-- keywords = ipynbfouriervectors; mfouriervectors -->\n",
    "\n",
    "The previous example is a rather simple procedure to obtain compression. The disadvantage is that it only affects frequencies with low contribution. \n",
    "A more neutral way to obtain compression is to let each DFT index occupy a certain number of bits. This is also called *quantization*, \n",
    "and provides us with compression if the number of bits is less than what actually is used to represent the sound. \n",
    "This is closer to what modern audio standards do.\n",
    "`forw_comp_rev_DFT` accepts a name parameter `n`. The effect of this is that a DFT coefficient with bit representation"
   ]
  },
  {
   "cell_type": "markdown",
   "metadata": {},
   "source": [
    "$$\n",
    "...d_2d_1d_0.d_{-1}d_{-2}d_{-3}...\n",
    "$$"
   ]
  },
  {
   "cell_type": "markdown",
   "metadata": {},
   "source": [
    "is truncated so that the bits $d_{n-1}$, $d_{n-2}$, $d_{n-2}$ are discarded.\n",
    "In other words, high values of $n$ mean more rounding. \n",
    "Let us first listen to the result for `n=3`."
   ]
  },
  {
   "cell_type": "code",
   "execution_count": 8,
   "metadata": {
    "collapsed": false
   },
   "outputs": [],
   "source": [
    "x, fs = forw_comp_rev_DFT(n=3)\n",
    "play(x, fs)"
   ]
  },
  {
   "cell_type": "markdown",
   "metadata": {},
   "source": [
    "Then for `n=5`."
   ]
  },
  {
   "cell_type": "code",
   "execution_count": 9,
   "metadata": {
    "collapsed": false
   },
   "outputs": [],
   "source": [
    "x, fs = forw_comp_rev_DFT(n=5)\n",
    "play(x, fs)"
   ]
  },
  {
   "cell_type": "markdown",
   "metadata": {},
   "source": [
    "Then for `n=7`."
   ]
  },
  {
   "cell_type": "code",
   "execution_count": 10,
   "metadata": {
    "collapsed": false
   },
   "outputs": [],
   "source": [
    "x, fs = forw_comp_rev_DFT(n=7)\n",
    "play(x, fs)"
   ]
  },
  {
   "cell_type": "markdown",
   "metadata": {},
   "source": [
    "You can hear that the sound degrades further when $n$ is increased.\n",
    "\n",
    "In practice this quantization procedure is also too simple, since the\n",
    "human auditory system is more sensitive to certain frequency information, and should thus allocate a higher number of bits for such frequencies. \n",
    "Modern audio standards take this into account, but we will not go into details on this.\n",
    "\n",
    "<!-- --- end exercise --- -->\n",
    "\n",
    "\n",
    "\n",
    "\n",
    "<!-- --- begin exercise --- -->\n",
    "\n",
    "## Exercise 2.21: Implement interpolant\n",
    "<div id=\"ex:interpolant\"></div>\n",
    "<!-- keywords = ipynbfouriervectors; mfouriervectors -->\n",
    "\n",
    "Implement code where you do the following:\n",
    "\n",
    "* at the top you define the function $f(x)=\\cos^6(x)$, and $M=3$,\n",
    "\n",
    "* compute the unique interpolant from $V_{M,T}$ (i.e. by taking $N=2M+1$ samples over one period), \n",
    "  as guaranteed by Proposition 2.9,\n",
    "\n",
    "* plot the interpolant against $f$ over one period.\n",
    "\n",
    "Finally run the code also for $M=4$, $M=5$, and $M=6$. Explain why the plots coincide for $M=6$, but not for $M<6$. Does increasing $M$ above $M=6$ have any effect on the plots?\n",
    "\n",
    "\n",
    "<!-- --- begin solution of exercise --- -->\n",
    "**Solution.**\n",
    "The code can look as follows."
   ]
  },
  {
   "cell_type": "code",
   "execution_count": 11,
   "metadata": {
    "collapsed": false
   },
   "outputs": [],
   "source": [
    "import matplotlib.pyplot as plt\n",
    "from numpy import *\n",
    "\n",
    "f = lambda t:cos(t)**6\n",
    "M = 5\n",
    "T = 2*pi\n",
    "N = 2*M + 1\n",
    "t = linspace(0, T, 100)\n",
    "x = f(linspace(0, T - T/float(N), N))\n",
    "y = fft.fft(x, axis=0)/N\n",
    "s = real(y[0])*ones(len(t))\n",
    "for k in range(1,(N+1)/2): \n",
    "    s += 2*real(y[k]*exp(2*pi*1j*k*t/float(T)))\n",
    "plt.plot(t, s, 'r', t, f(t), 'g')\n",
    "plt.legend(['Interpolant from V_{M,T}','f'])"
   ]
  },
  {
   "cell_type": "markdown",
   "metadata": {},
   "source": [
    "<!-- --- end solution of exercise --- -->\n",
    "\n",
    "<!-- --- end exercise --- -->\n",
    "\n",
    "\n",
    "\n",
    "\n",
    "<!-- --- begin exercise --- -->\n",
    "\n",
    "## Exercise 2.24: Compare execution time\n",
    "<div id=\"ex:compareextimes\"></div>\n",
    "<!-- keywords = ipynbfouriervectors; mfouriervectors -->\n",
    "\n",
    "In this exercise we will compare execution times for the different methods for computing the DFT.\n",
    "\n",
    "\n",
    "**a)**\n",
    "Write code which compares the execution times for an $N$-point DFT for the following three cases: Direct implementation of the DFT \n",
    "(as in Example 2.4),\n",
    "the FFT implementation used in this chapter, and the built-in `fft`-function. Your code should use the sample audio file `castanets.wav`, \n",
    "apply the different DFT implementations to the first $N=2^r$ samples of the file for $r=3$ to $r=15$, store the execution times in a vector, and plot these. You can use \n",
    "the function `time()` in the `time` module\n",
    "to measure the execution time.\n",
    "\n",
    "\n",
    "**b)**\n",
    "A problem for large $N$ is that there is such a big difference in the execution times between the two implementations. We can address this by using a loglog-plot instead. Plot $N$ against execution\n",
    "times using the function `loglog`. How should the fact that the number of arithmetic operations are $8N^2$ and $5N\\log_2N$ be reflected in the plot?\n",
    "\n",
    "\n",
    "<!-- --- begin solution of exercise --- -->\n",
    "**Solution.**\n",
    "The two different curves you see should have a derivative approximately equal to one and two, respectively.\n",
    "\n",
    "<!-- --- end solution of exercise --- -->\n",
    "\n",
    "**c)**\n",
    "It seems that the built-in FFT is much faster than our own FFT implementation, even though they may use similar algorithms. Try to explain what can be the cause of this.\n",
    "\n",
    "\n",
    "<!-- --- begin solution of exercise --- -->\n",
    "**Solution.**\n",
    "There may be several reasons for this. \n",
    "One is that Python code runs slowly when compared to native code, which is much used in the built-in FFT. Also, the built-in `fft` has been subject to much more optimization than we have\n",
    "covered here.\n",
    "\n",
    "<!-- --- end solution of exercise --- -->\n",
    "\n",
    "\n",
    "<!-- --- begin solution of exercise --- -->\n",
    "**Solution.**\n",
    "The code can look as follows."
   ]
  },
  {
   "cell_type": "code",
   "execution_count": 12,
   "metadata": {
    "collapsed": false
   },
   "outputs": [],
   "source": [
    "x0, fs = audioread('sounds/castanets.wav')\n",
    "\n",
    "kvals = arange(3,16)\n",
    "slowtime = zeros(len(kvals))\n",
    "fasttime = zeros(len(kvals))\n",
    "fastesttime = zeros(len(kvals))\n",
    "N = 2**kvals\n",
    "for k in kvals:\n",
    "    x = x0[0:2**k].astype(complex)\n",
    "    \n",
    "    start = time()\n",
    "    DFTImpl(x)\n",
    "    slowtime[k - kvals[0]] = time() - start\n",
    "    \n",
    "    start = time()\n",
    "    FFTImpl(x, FFTKernelStandard)\n",
    "    fasttime[k - kvals[0]] = time() - start\n",
    "\n",
    "    start = time()\n",
    "    fft.fft(x, axis=0)\n",
    "    fastesttime[k - kvals[0]] = time() - start\n",
    "\n",
    "# a.\n",
    "plt.plot(kvals, slowtime, 'ro-', \\\n",
    "     kvals, fasttime, 'go-', \\\n",
    "     kvals, fastesttime, 'bo-')\n",
    "plt.grid('on')\n",
    "plt.title('time usage of the DFT methods')\n",
    "plt.legend(['DFT', 'Standard FFT', 'Built-in FFT'])\n",
    "plt.xlabel('log_2 N')\n",
    "plt.ylabel('time used [s]')\n",
    "plt.show()\n",
    " \n",
    "plt.figure()\n",
    "\n",
    "# b.\n",
    "plt.loglog(N, slowtime, 'ro-', N, fasttime, 'go-', N, fastesttime, 'bo-')\n",
    "plt.axis('equal')\n",
    "plt.legend(['DFT', 'Standard FFT', 'Built-in FFT'])"
   ]
  },
  {
   "cell_type": "markdown",
   "metadata": {},
   "source": [
    "<!-- --- end solution of exercise --- -->\n",
    "\n",
    "<!-- --- end exercise --- -->\n",
    "\n",
    "\n",
    "\n",
    "\n",
    "<!-- --- begin exercise --- -->\n",
    "\n",
    "## Exercise 2.28: Non-recursive FFT algorithm\n",
    "<div id=\"ex:nonrecursivealg\"></div>\n",
    "<!-- keywords = ipynbfouriervectors; mfouriervectors -->\n",
    "\n",
    "Use the factorization in (2.18) to write a kernel function `FFTKernelNonrec` \n",
    "for a non-recursive FFT implementation.\n",
    "In your code, perform the matrix multiplications in Equation (2.18) \n",
    "from right to left in an (outer) for-loop. For each matrix loop through the different blocks on the diagonal in\n",
    "an (inner) for-loop. Make sure you have the right number of blocks on the diagonal, each block being on the form"
   ]
  },
  {
   "cell_type": "markdown",
   "metadata": {},
   "source": [
    "$$\n",
    "\\begin{pmatrix} I & D_{N/2^k} \\\\ I & -D_{N/2^k} \\end{pmatrix}.\n",
    "$$"
   ]
  },
  {
   "cell_type": "markdown",
   "metadata": {},
   "source": [
    "It may be a good idea to start by implementing multiplication with such a simple matrix first as these are the building blocks in the algorithm (also attempt to do this so that everything is computed\n",
    "in-place). Also compare the execution times with our original FFT algorithm, as we did in \n",
    "Exercise 2.24, and try to explain what you see in this comparison.\n",
    "\n",
    "\n",
    "\n",
    "\n",
    "\n",
    "\n",
    "\n",
    "<!-- --- begin solution of exercise --- -->\n",
    "**Solution.**\n",
    "The algorithm for the non-recursive FFT can look as follows"
   ]
  },
  {
   "cell_type": "code",
   "execution_count": 13,
   "metadata": {
    "collapsed": false
   },
   "outputs": [],
   "source": [
    "def FFTKernelNonrec(x, forward):\n",
    "    \"\"\"\n",
    "    Compute the FFT of x, using a non-recursive FFT algorithm. \n",
    "    \n",
    "    x: a bit-reversed version of the input. Should have only one axis\n",
    "    forward: Whether the FFT or the IFFT is applied\n",
    "    \"\"\"\n",
    "    N = len(x)\n",
    "    sign = -1\n",
    "    if not forward:\n",
    "        sign = 1\n",
    "    D = exp(sign*2*pi*1j*arange(float(N/2))/N)\n",
    "    nextN = 1\n",
    "    while nextN < N:\n",
    "        k = 0\n",
    "        while k < N:\n",
    "            xe, xo = x[k:(k + nextN)], x[(k + nextN):(k + 2*nextN)]\n",
    "            xo *= D[0::(N/(2*nextN))]\n",
    "            x[k:(k+2*nextN)] = concatenate([xe + xo, xe - xo])\n",
    "            k += 2*nextN\n",
    "        nextN *= 2"
   ]
  },
  {
   "cell_type": "markdown",
   "metadata": {},
   "source": [
    "If you add the non-recursive algorithm to the code from Exercise 2.24, you will see that the non-recursive algorithm performs much better. There may be several\n",
    "reasons for this. First of all, there are no recursive function calls. Secondly, the values in the matrices $D_{N/2}$ are constructed once and for all with\n",
    "the non-recursive algorithm. Code which compares execution times for the original FFT algorithm, our non-recursive implementation, and the split-radix algorithm of the next\n",
    "exercise, can look as follows:"
   ]
  },
  {
   "cell_type": "code",
   "execution_count": 14,
   "metadata": {
    "collapsed": false
   },
   "outputs": [],
   "source": [
    "x0, fs = audioread('sounds/castanets.wav') \n",
    "\n",
    "kvals = arange(3,16)\n",
    "slowtime = zeros(len(kvals))\n",
    "fasttime = zeros(len(kvals))\n",
    "fastesttime = zeros(len(kvals))\n",
    "N = 2**kvals\n",
    "for k in kvals:\n",
    "    x = x0[0:2**k].astype(complex)\n",
    "    \n",
    "    start = time()\n",
    "    FFTImpl(x, FFTKernelStandard)\n",
    "    slowtime[k - kvals[0]] = time() - start\n",
    "    \n",
    "    start = time()\n",
    "    FFTImpl(x, FFTKernelNonrec)\n",
    "    fasttime[k - kvals[0]] = time() - start\n",
    "\n",
    "    start = time()\n",
    "    FFTImpl(x, FFTKernelSplitradix)\n",
    "    fastesttime[k - kvals[0]] = time() - start\n",
    "\n",
    "plt.plot(kvals, slowtime, 'ro-', \\\n",
    "     kvals, fasttime, 'bo-', \\\n",
    "     kvals, fastesttime, 'go-')\n",
    "plt.grid('on')\n",
    "plt.title('time usage of the DFT methods')\n",
    "plt.legend(['Standard FFT algorithm', \\\n",
    "       'Non-recursive FFT', \\\n",
    "       'Split radix FFT'])\n",
    "plt.xlabel('log_2 N')\n",
    "plt.ylabel('time used [s]')\n",
    "plt.show()"
   ]
  },
  {
   "cell_type": "markdown",
   "metadata": {},
   "source": [
    "<!-- --- end solution of exercise --- -->\n",
    "\n",
    "<!-- --- end exercise --- -->\n",
    "\n",
    "\n",
    "# Operations on digital sound: digital filters\n",
    "# Symmetric filters and the DCT"
   ]
  }
 ],
 "metadata": {},
 "nbformat": 4,
 "nbformat_minor": 2
}
