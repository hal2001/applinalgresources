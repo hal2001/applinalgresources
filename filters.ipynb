{
 "cells": [
  {
   "cell_type": "markdown",
   "metadata": {},
   "source": [
    "<!-- dom:TITLE: Exercises from Linear algebra, signal processing, and wavelets. A unified approach.\\\\ Python version -->\n",
    "# Exercises from Linear algebra, signal processing, and wavelets. A unified approach.\\\\ Python version\n",
    "<!-- dom:AUTHOR: \\O yvind Ryan -->\n",
    "<!-- Author: --> **\\O yvind Ryan**\n",
    "\n",
    "Date: **Jan 20, 2017**\n",
    "\n",
    "<!-- Externaldocuments: applinalg -->\n",
    "<!-- Mapping from exercise labels to numbers: label2numbers = {'basstrebleexercise': '3.39', 'bassex': '3.36', 'mp3example': '3.34', 'echoadd': '3.30', 'movavgex': '3.31', 'example:plotting_simple_freqresp': '3.18', 'example:dropping_filter_coefficients': '3.33'} -->\n",
    "\n",
    "\n",
    "\n",
    "\n",
    "\n",
    "# Sound and Fourier series\n",
    "# Digital sound and Discrete Fourier analysis\n",
    "# Operations on digital sound: digital filters\n",
    "\n",
    "\n",
    "<!-- --- begin exercise --- -->\n",
    "\n",
    "## Example 3.18: Plotting a simple frequency response\n",
    "<div id=\"example:plotting_simple_freqresp\"></div>\n",
    "<!-- keywords = ipynbfilters; mfilters -->"
   ]
  },
  {
   "cell_type": "code",
   "execution_count": 1,
   "metadata": {
    "collapsed": false
   },
   "outputs": [],
   "source": [
    "%matplotlib inline\n",
    "\n",
    "import os, sys\n",
    "sys.path.append(os.path.join(os.getcwd(), 'python'))\n",
    "from numpy import *\n",
    "import matplotlib.pyplot as plt\n",
    "from mp3funcs import *\n",
    "from sound import *"
   ]
  },
  {
   "cell_type": "markdown",
   "metadata": {},
   "source": [
    "In Example 3.10 we computed the vector frequency response of the filter defined in formula (3.1). \n",
    "The filter coefficients are here $t_{-1}=1/4$, $t_0=1/2$, and $t_1=1/4$. \n",
    "The continuous frequency response is thus"
   ]
  },
  {
   "cell_type": "markdown",
   "metadata": {},
   "source": [
    "$$\n",
    "\\lambda_S(\\omega)=\\frac{1}{4}e^{i\\omega}+\\frac{1}{2} + \\frac{1}{4}e^{-i\\omega} =\\frac{1}{2}+\\frac{1}{2}\\cos\\omega.\n",
    "$$"
   ]
  },
  {
   "cell_type": "markdown",
   "metadata": {},
   "source": [
    "Clearly this matches the computation from Example 3.10. \n",
    "We can plot the frequency response over $[0,2\\pi]$ as follows,"
   ]
  },
  {
   "cell_type": "code",
   "execution_count": 2,
   "metadata": {
    "collapsed": false
   },
   "outputs": [],
   "source": [
    "omega=linspace(0, 2*pi, 100)\n",
    "plt.figure()\n",
    "plt.plot(omega,0.5+0.5*cos(omega), 'k-')"
   ]
  },
  {
   "cell_type": "markdown",
   "metadata": {},
   "source": [
    "and over $[-\\pi,\\pi]$ as follows."
   ]
  },
  {
   "cell_type": "code",
   "execution_count": 3,
   "metadata": {
    "collapsed": false
   },
   "outputs": [],
   "source": [
    "omega=linspace(-pi, pi, 100)\n",
    "plt.figure()\n",
    "plt.plot(omega,0.5+0.5*cos(omega), 'k-')"
   ]
  },
  {
   "cell_type": "markdown",
   "metadata": {},
   "source": [
    "Both the continuous frequency response and the vector frequency response for $N=51$ are shown. The right part shows clearly how the high frequencies are softened by\n",
    "the filter.\n",
    "\n",
    "<!-- --- end exercise --- -->\n",
    "\n",
    "\n",
    "\n",
    "\n",
    "<!-- --- begin exercise --- -->\n",
    "\n",
    "## Example 3.30: Adding echo\n",
    "<div id=\"echoadd\"></div>\n",
    "<!-- keywords = ipynbfilters; mfilters -->"
   ]
  },
  {
   "cell_type": "code",
   "execution_count": 4,
   "metadata": {
    "collapsed": false
   },
   "outputs": [],
   "source": [
    "x, fs = audioread('sounds/castanets.wav')\n",
    "d = 10000\n",
    "c = 0.5\n",
    "k = 5"
   ]
  },
  {
   "cell_type": "markdown",
   "metadata": {},
   "source": [
    "An echo is a copy of the sound that is delayed and softer than the original sound. \n",
    "If $\\boldsymbol{x}$ is the sound, the sound $\\boldsymbol{z}$ with samples given by"
   ]
  },
  {
   "cell_type": "code",
   "execution_count": 5,
   "metadata": {
    "collapsed": false
   },
   "outputs": [],
   "source": [
    "N,nchannels = shape(x)\n",
    "z = zeros((N, nchannels))\n",
    "z[0:d] = x[0:d] # No echo at the beginning of the signal\n",
    "z[d:N] = x[d:N] + c*x[0:(N-d)]\n",
    "z /= abs(z).max()"
   ]
  },
  {
   "cell_type": "markdown",
   "metadata": {},
   "source": [
    "will include an echo of the original sound. \n",
    "This is an example of a filtering operation where each output element is constructed from two input elements. \n",
    "`d` is an integer which represents the delay in samples. If you need a delay in $t$ seconds, \n",
    "simply multiply this with the sample rate to obtain the delay $d$ in samples ($d$ needs to be rounded to the nearest integer). \n",
    "$c$ is a constant called the damping factor. \n",
    "Since an echo is usually weaker than the original sound, we usually have that $c<1$. \n",
    "If we choose $c>1$, the echo will dominate in the sound. \n",
    "\n",
    "Let us listen to the sound after adding echo."
   ]
  },
  {
   "cell_type": "code",
   "execution_count": 6,
   "metadata": {
    "collapsed": false
   },
   "outputs": [],
   "source": [
    "play(z, fs)"
   ]
  },
  {
   "cell_type": "markdown",
   "metadata": {},
   "source": [
    "You are encouraged to experiment and find the range of $d$ where the echo distinguisible from the sound itself, \n",
    "and how low can you choose $c$ in order to still hear the echo.\n",
    "\n",
    "Using our compact filter notation, the filter which adds echo can be written as"
   ]
  },
  {
   "cell_type": "markdown",
   "metadata": {},
   "source": [
    "$$\n",
    "S=\\{ \\underline{1},0,\\ldots,0,c \\},\n",
    "$$"
   ]
  },
  {
   "cell_type": "markdown",
   "metadata": {},
   "source": [
    "where the damping factor $c$ appears after the delay $d$. \n",
    "The frequency response of this is $\\lambda_S(\\omega)=1+ce^{-id\\omega}$, which is not real, so that the filter is not symmetric. \n",
    "\n",
    "We can plot the frequency response as follows"
   ]
  },
  {
   "cell_type": "code",
   "execution_count": 7,
   "metadata": {
    "collapsed": false
   },
   "outputs": [],
   "source": [
    "omega = linspace(0.01, 2*pi-0.01, 100) \n",
    "plt.figure()\n",
    "plt.plot(omega, abs(1+0.1*exp(-1j*10*omega)), 'k-')"
   ]
  },
  {
   "cell_type": "markdown",
   "metadata": {},
   "source": [
    "The deviation from $1$ is controlled by the damping factor $c$, and the oscillation is controlled by the delay $d$.\n",
    "\n",
    "\n",
    "\n",
    "\n",
    "\n",
    "<!-- --- end exercise --- -->\n",
    "\n",
    "\n",
    "\n",
    "\n",
    "<!-- --- begin exercise --- -->\n",
    "\n",
    "## Example 3.31: Reducing the treble with moving average filters\n",
    "<div id=\"movavgex\"></div>\n",
    "<!-- keywords = ipynbfilters; mfilters -->\n",
    "\n",
    "Let us now take a look at filters which adjust the treble in sound. \n",
    "The fact that the filters are useful for these purposes will be clear when we\n",
    "plot the frequency response. \n",
    "A general way of reducing variations \n",
    "in a sequence of numbers is to replace one number by the average of itself and its neighbors, and this is easily done with a digital sound signal. \n",
    "If $\\boldsymbol{z}=(z_i)_{i=0}^{N-1}$ is the sound signal produced by taking the average of three successive samples, we have that"
   ]
  },
  {
   "cell_type": "markdown",
   "metadata": {},
   "source": [
    "$$\n",
    "z_n = \\frac{1}{3}(x_{n+1} + x_n + x_{n-1}),\n",
    "$$"
   ]
  },
  {
   "cell_type": "markdown",
   "metadata": {},
   "source": [
    "i.e. $S=\\{1/3,\\underline{1/3},1/3\\}$. \n",
    "This filter is also called a *moving average filter*  (with three elements), and it can be written in compact form as. If we set $N=4$, the corresponding circulant\n",
    "Toeplitz matrix for the filter is"
   ]
  },
  {
   "cell_type": "markdown",
   "metadata": {},
   "source": [
    "$$\n",
    "S\n",
    "=\n",
    "\\frac{1}{3}\n",
    "\\begin{pmatrix}\n",
    "1 & 1 & 0           & 1 \\\\ \n",
    "1 & 1 & 1 & 0 \\\\ \n",
    "0           & 1 & 1 & 1 \\\\ \n",
    "1 & 0           & 1 & 1           \n",
    "\\end{pmatrix}\n",
    "$$"
   ]
  },
  {
   "cell_type": "markdown",
   "metadata": {},
   "source": [
    "The frequency response is"
   ]
  },
  {
   "cell_type": "markdown",
   "metadata": {},
   "source": [
    "$$\n",
    "\\lambda_S(\\omega)=(e^{i\\omega}+1+e^{-i\\omega})/3=(1+2\\cos(\\omega))/3.\n",
    "$$"
   ]
  },
  {
   "cell_type": "markdown",
   "metadata": {},
   "source": [
    "More generally we can construct the moving average filter of\n",
    "$2L+1$ elements, which is $S=\\{1,\\cdots,\\underline{1},\\cdots,1\\}/(2L+1)$, where there is symmetry around $0$. \n",
    "Clearly then the first column of $S$ is $\\boldsymbol{s}=(\\underbrace{1,\\ldots,1}_{L+1\\text{ times}},0,\\ldots,0,\\underbrace{1,\\ldots,1}_{L\\text{ times}})/(2L+1)$.\n",
    "In Example 2.2 we computed that the DFT of the vector $\\boldsymbol{x}=(\\underbrace{1,\\ldots,1}_{L+1\\text{ times}},0,\\ldots,0,\\underbrace{1,\\ldots,1}_{L\\text{ times}})$ had components"
   ]
  },
  {
   "cell_type": "markdown",
   "metadata": {},
   "source": [
    "$$\n",
    "y_n = \\frac{\\sin(\\pi n(2L+1)/N)}{\\sin(\\pi n/N)}.\n",
    "$$"
   ]
  },
  {
   "cell_type": "markdown",
   "metadata": {},
   "source": [
    "Since $\\boldsymbol{s}=\\boldsymbol{x}/(2L+1)$ and $\\lambda_S=\\text{DFT}_N\\boldsymbol{s}$, the frequency response of $S$ is"
   ]
  },
  {
   "cell_type": "markdown",
   "metadata": {},
   "source": [
    "$$\n",
    "\\lambda_{S,n}=\\frac{1}{2L+1}\\frac{\\sin(\\pi n(2L+1)/N)}{\\sin(\\pi n/N)},\n",
    "$$"
   ]
  },
  {
   "cell_type": "markdown",
   "metadata": {},
   "source": [
    "so that\n",
    "$$\\lambda_S(\\omega)=\\frac{1}{2L+1}\\frac{\\sin((2L+1)\\omega/2)}{\\sin(\\omega/2)}.$$\n",
    "We clearly have\n",
    "$$0\\leq\\frac{1}{2L+1}\\frac{\\sin((2L+1)\\omega/2)}{\\sin(\\omega/2)}\\leq 1,$$\n",
    "and this frequency response approaches $1$ as $\\omega\\to 0$. \n",
    "The frequency response thus peaks at $0$, and this peak gets narrower and narrower as $L$ increases, i.e. as we use more and more samples in the\n",
    "averaging process. This filter thus \"keeps\" only the lowest frequencies. When it comes to the highest frequencies it is seen that the frequency response is small for $\\omega\\approx\\pi$. \n",
    "In fact it is straightforward to see that $|\\lambda_S(\\pi)|=1/(2L+1)$. \n",
    "Let us plot the frequency responses for the moving avegerage filters corresponding to $L=1$, $L=5$, and $L=20$."
   ]
  },
  {
   "cell_type": "code",
   "execution_count": 8,
   "metadata": {
    "collapsed": false
   },
   "outputs": [],
   "source": [
    "omega = linspace(0.01, 2*pi-0.01, 100) \n",
    "for L in [1, 5, 20]:\n",
    "    plt.figure()\n",
    "    plt.plot(omega, sin((2*L+1)*omega/2)/(sin(omega/2)*(2*L+1)), 'k-')"
   ]
  },
  {
   "cell_type": "markdown",
   "metadata": {},
   "source": [
    "Unfortunately, the frequency response is far from a filter which keeps some frequencies unaltered, while annihilating others: \n",
    "Although the filter distinguishes between high and low frequencies, it slightly changes the small frequencies. \n",
    "Moreover, the higher frequencies are not annihilated, even when we increase $L$ to high values.\n",
    "\n",
    "<!-- --- end exercise --- -->\n",
    "\n",
    "\n",
    "\n",
    "\n",
    "<!-- --- begin exercise --- -->\n",
    "\n",
    "## Example 3.33: Dropping filter coefficients\n",
    "<div id=\"example:dropping_filter_coefficients\"></div>\n",
    "<!-- keywords = ipynbfilters; mfilters -->\n",
    "\n",
    "In order to decrease the computational complexity for the ideal low-pass filter in Example 3.32, \n",
    "one can for instance include only the first filter coefficients, i.e."
   ]
  },
  {
   "cell_type": "markdown",
   "metadata": {},
   "source": [
    "$$\n",
    "\\left\\{\\frac{1}{N}\\frac{\\sin(\\pi k(2L+1)/N)}{\\sin(\\pi k/N)}\\right\\}_{k=-N_0}^{N_0}.\n",
    "$$"
   ]
  },
  {
   "cell_type": "markdown",
   "metadata": {},
   "source": [
    "Hopefully this gives us a filter where the frequency response is not that different from the ideal low-pass filter. \n",
    "Let us set $N=128$, $L=32$, so that the filter removes all frequencies $\\omega>\\pi/2$. \n",
    "The following code tests this for different vaues of $N_0$."
   ]
  },
  {
   "cell_type": "code",
   "execution_count": 9,
   "metadata": {
    "collapsed": false
   },
   "outputs": [],
   "source": [
    "N = 128\n",
    "L = 32\n",
    "filtercoeffs = [sin(pi*k*(2*L+1)/N)/(sin(pi*k/N)*N) for k in range(1, N)]\n",
    "omega=linspace(0, 2*pi, 100)\n",
    "      \n",
    "for N0 in [2, 4, 16, 64]:\n",
    "    freqresp=((2*L+1)/float(N))*ones(len(omega));\n",
    "    for k in range(1, N0 + 1):\n",
    "        freqresp += filtercoeffs[k - 1]*2*cos(omega*k)\n",
    "    plt.figure()\n",
    "    plt.plot(omega, freqresp, 'k-')"
   ]
  },
  {
   "cell_type": "markdown",
   "metadata": {},
   "source": [
    "This shows that we should be careful when we omit filter coefficients: if we drop too many, the frequency response is far away from that of an ideal\n",
    "bandpass filter. In particular, we see that the new frequency response oscillates wildly near the discontinuity of the ideal low-pass filter. Such oscillations are\n",
    "called *Gibbs oscillations*.\n",
    "\n",
    "\n",
    "\n",
    "\n",
    "<!-- --- end exercise --- -->\n",
    "\n",
    "\n",
    "\n",
    "\n",
    "<!-- --- begin exercise --- -->\n",
    "\n",
    "## Example 3.34: Filters and the MP3 standard\n",
    "<div id=\"mp3example\"></div>\n",
    "<!-- keywords = ipynbfilters; mfilters -->\n",
    "\n",
    "We mentioned previously that the MP3 standard splits the sound into frequency bands. This splitting is actually performed by particular filters, which we will\n",
    "consider now.\n",
    "In the example above, we saw that when we dropped the last filter coefficients in the ideal low-pass filter, there were some undesired effects in the frequency\n",
    "response of the resulting filter. Are there other and better approximations to the ideal low-pass filter which uses the same number of filter coefficients? This\n",
    "question is important, since the ear is sensitive to certain frequencies, and we would like to extract these frequencies for special processing, using as low\n",
    "computational complexity as possible. In the MP3-standard, such filters have been constructed. These filters are more advanced than the ones we have seen up to now.\n",
    "They have as many as 512 filter coefficients! We will not go into the details on how these filters are constructed, but only show how their frequency responses look. \n",
    "\n",
    "The \"prototype filter\" used in the MP3 standard can be plotted as follows."
   ]
  },
  {
   "cell_type": "code",
   "execution_count": 10,
   "metadata": {
    "collapsed": false
   },
   "outputs": [],
   "source": [
    "omega = linspace(-0.7, 0.7, 1000)\n",
    "wind = mp3ctable()\n",
    "wind1 = concatenate([tile([1], 64), tile([-1], 64)])\n",
    "wind1 = tile(wind1, 4)\n",
    "wind=wind*wind1\n",
    "    \n",
    "freqresp = zeros(1000).astype(complex)\n",
    "for k in range(512):\n",
    "    freqresp += wind[k]*exp(-1j*omega*k)\n",
    "plt.figure()\n",
    "plt.plot(omega, abs(freqresp), 'k-')"
   ]
  },
  {
   "cell_type": "markdown",
   "metadata": {},
   "source": [
    "We see that this is very close to an ideal low-pass\n",
    "filter. Moreover, many of the undesirable effect from the previous example have been eliminated: The oscillations near the discontinuities are much smaller, and\n",
    "the values are lower away from $0$. Using Property 4 in Theorem 2.7, it is straightforward to construct filters with similar frequency responses, but\n",
    "centered around different frequencies: We simply need to multiply the filter coefficients with a complex exponential, in order to obtain a filter where the\n",
    "frequency response has been shifted to the left or right. In the MP3 standard, this observation is used to construct 32 filters, each having a frequency response\n",
    "which is a shifted copy of that of the prototype filter, so that all filters together cover the entire frequency range. \n",
    "5 of these frequency responses can be ploted as follows."
   ]
  },
  {
   "cell_type": "code",
   "execution_count": 11,
   "metadata": {
    "collapsed": false
   },
   "outputs": [],
   "source": [
    "plt.figure()\n",
    "for s in [3, 5, 7, 9, 11]:\n",
    "    freqresp = zeros(1000).astype(complex)\n",
    "    for k in range(512):\n",
    "        freqresp += wind[k]*cos(s*(k-16)*pi/64)*exp(-1j*omega*k)\n",
    "    plt.plot(omega, abs(freqresp), 'k-')"
   ]
  },
  {
   "cell_type": "markdown",
   "metadata": {},
   "source": [
    "To understand the effects of the different filters, let us apply them to our sample sound. If you apply all filters in the MP3 standard in successive order with\n",
    "the most low-pass filters first, the result will sound like [this](http://folk.uio.no/oyvindry/matinf2360/sounds/mp3bands.wav). You should interpret the result as \n",
    "low frequencies first, followed by the high frequencies. $\\pi$ corresponds to the frequency $22.05$KHz (i.e. the highest representable frequency equals half\n",
    "the sampling rate on $44.1$KHz. The different filters are concentrated on $1/32$ of these frequencies each, so that the angular frequencies you here are\n",
    "$[\\pi/64,3\\pi/64]$, $[3\\pi/64,5\\pi/64]$, $[5\\pi/64,7\\pi/64]$, and so on, in that order.\n",
    "\n",
    "In Section 3.3.1 we mentioned that the psycoacoustic model of the MP3 standard applied a window the the sound data, followed by an FFT to that\n",
    "data. This is actually performed in parallel on the same sound data. Applying two different operations in parallel to the sound data may seem strange. In the MP3\n",
    "standard [[mp3standard]](#mp3standard) (p. 109) this is explained by ``the lack of spectral selectivity obtained at low frequencies`` by the filters above. In other words,\n",
    "the FFT can give more precise frequency information than the filters can. This more precise information is then used to compute psychoacoustic information such\n",
    "as masking thresholds, and this information is applied to the output of the filters.\n",
    "\n",
    "<!-- --- end exercise --- -->\n",
    "\n",
    "\n",
    "\n",
    "\n",
    "<!-- --- begin exercise --- -->\n",
    "\n",
    "## Example 3.36: Reducing the bass using Pascals triangle\n",
    "<div id=\"bassex\"></div>\n",
    "<!-- keywords = ipynbfilters; mfilters -->\n",
    "\n",
    "Due to Observation 3.22 and Example 3.35, we can create bass-reducing filters \n",
    "by adding an alternating sign to rows in Pascals triangle. \n",
    "Consider the bass-reducing filter deduced from the fourth row in Pascals triangle:"
   ]
  },
  {
   "cell_type": "markdown",
   "metadata": {},
   "source": [
    "$$\n",
    "z_n = \\frac{1}{16}(x_{n-2}-4x_{n-1}+6x_n-4x_{n+1}+x_{n+2})\n",
    "$$"
   ]
  },
  {
   "cell_type": "markdown",
   "metadata": {},
   "source": [
    "Let us apply this filter to the sound in Figure 3.12. \n",
    "This can be done with the following code."
   ]
  },
  {
   "cell_type": "code",
   "execution_count": 12,
   "metadata": {
    "collapsed": false
   },
   "outputs": [],
   "source": [
    "t=arange(0,0.01,1/4400.)\n",
    "vals=sin(2*pi*440*t)\n",
    "plt.figure()\n",
    "arr2 = concatenate([array([-1/4400.]), array([-2/4400.]), t, array([0.01+1/4400.]), array([0.01+2/4400.])])\n",
    "plt.plot(arr2,convolve(vals,array([1, -4, 6, -4, 1])/16.),'-ko')"
   ]
  },
  {
   "cell_type": "markdown",
   "metadata": {},
   "source": [
    "We observe that the samples oscillate much more than the samples of the original sound. \n",
    "In Exercise 3.39 you will\n",
    "be asked to implement reducing the bass in our sample audio file. The new sound will be difficult to hear for large $k$, and we will explain\n",
    "why later. For $k=1$ the sound will be like [this](http://folk.uio.no/oyvindry/matinf2360/sounds/castanetsbass1.wav), for $k=2$ it will be like\n",
    "[this](http://folk.uio.no/oyvindry/matinf2360/sounds/castanetsbass2.wav). Even if the sound is quite low, you can hear that more of the bass has disappeared\n",
    "for $k=2$.\n",
    "\n",
    "Let us plot the frequency response we obtain from using row $5$ of Pascal's triangle."
   ]
  },
  {
   "cell_type": "code",
   "execution_count": 13,
   "metadata": {
    "collapsed": false
   },
   "outputs": [],
   "source": [
    "t=arange(0,0.01,1/4400.)\n",
    "vals=sin(2*pi*440*t)\n",
    "plt.figure()\n",
    "arr2 = concatenate([array([-1/4400.]), array([-2/4400.]), t, array([0.01+1/4400.]), array([0.01+2/4400.])])\n",
    "plt.plot(arr2,convolve(vals,array([1, -4, 6, -4, 1])/16.),'-ko')"
   ]
  },
  {
   "cell_type": "markdown",
   "metadata": {},
   "source": [
    "It is just the frequency response of the corresponding treble-reducing filter shifted with $\\pi$. \n",
    "The alternating sign can also be achieved if we write the frequency response\n",
    "$\\frac{1}{2^k}(1+e^{-i\\omega})^k$ from Example 3.35 as $\\frac{1}{2^k}(1-e^{-i\\omega})^k$, \n",
    "which corresponds to applying the filter $S(\\boldsymbol{x})=\\frac{1}{2}(-x_{n-1}+x_n)$ $k$ times.\n",
    "\n",
    "<!-- --- end exercise --- -->\n",
    "\n",
    "\n",
    "\n",
    "\n",
    "<!-- --- begin exercise --- -->\n",
    "\n",
    "## Exercise 3.39: Reducing bass and treble\n",
    "<div id=\"basstrebleexercise\"></div>\n",
    "<!-- keywords = ipynbfilters; mfilters -->\n",
    "\n",
    "Write code where you reduce the treble and the bass as described in examples 3.35 and 3.36, \n",
    "generate the sounds you heard in these examples, and verify that they are the same.\n",
    "In your code, it will be necessary to scale the values after reducing the bass, but not the values after reducing the bass. Explain why this is the case.\n",
    "How high must $k$ be in order for you to hear difference from the actual sound? How high can you choose $k$ and still recognize the sound at all?  \n",
    "If you solved Exercise 3.9, you can also use the function `filterS` to perform the filtering, \n",
    "rather than sing the `convolve` function (the latter disregards circularity).\n",
    "\n",
    "\n",
    "<!-- --- begin solution of exercise --- -->\n",
    "**Solution.**\n",
    "The code can look like this, when we reduce the treble. We have used the `convolve` function:"
   ]
  },
  {
   "cell_type": "code",
   "execution_count": 14,
   "metadata": {
    "collapsed": false
   },
   "outputs": [],
   "source": [
    "t = [1.]\n",
    "for kval in range(k):\n",
    "    t = convolve(t, [1/2., 1/2.])"
   ]
  },
  {
   "cell_type": "code",
   "execution_count": 15,
   "metadata": {
    "collapsed": false
   },
   "outputs": [],
   "source": [
    "z = convolve(t, x[:, 0])\n",
    "play(z,fs)"
   ]
  },
  {
   "cell_type": "markdown",
   "metadata": {},
   "source": [
    "If we reduce the bass instead, the code can look like this."
   ]
  },
  {
   "cell_type": "code",
   "execution_count": 16,
   "metadata": {
    "collapsed": false
   },
   "outputs": [],
   "source": [
    "    t = [1.]\n",
    "    for kval in range(k):\n",
    "        t = convolve(t, [1/2., -1/2.])"
   ]
  },
  {
   "cell_type": "code",
   "execution_count": 17,
   "metadata": {
    "collapsed": false
   },
   "outputs": [],
   "source": [
    "z = convolve(t, x[:, 0])\n",
    "z /= abs(z).max()\n",
    "play(z,fs)"
   ]
  },
  {
   "cell_type": "markdown",
   "metadata": {},
   "source": [
    "<!-- --- end solution of exercise --- -->\n",
    "\n",
    "<!-- --- end exercise --- -->\n",
    "\n",
    "\n",
    "# Symmetric filters and the DCT"
   ]
  }
 ],
 "metadata": {},
 "nbformat": 4,
 "nbformat_minor": 2
}
