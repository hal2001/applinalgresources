{
 "cells": [
  {
   "cell_type": "markdown",
   "metadata": {},
   "source": [
    "<!-- dom:TITLE: Exercises from Exercises from Linear algebra, signal processing, and wavelets. A unified approach.\\\\ Python version -->\n",
    "# Exercises from Exercises from Linear algebra, signal processing, and wavelets. A unified approach.\\\\ Python version\n",
    "<!-- dom:AUTHOR: \\O yvind Ryan -->\n",
    "<!-- Author: --> **\\O yvind Ryan**\n",
    "\n",
    "Date: **Jan 13, 2017**\n",
    "\n",
    "<!-- Mapping from exercise labels to numbers: label2numbers = {'symfuncex': '1.35', 'ex:playwithdifferentfs': '1.9', 'exsq1': '1.12', 'triwavetrunk': '1.16', 'puresoundex': '1.3', 'ex:fourierseriespolynomials': '1.22', 'ex:fourierpuretoneshortened': '1.24', 'example:listen_different_channels': '1.1', 'triangleexercise': '1.11', 'ex:fourierpuretone2stk': '1.25', 'squarewaveex': '1.4', 'soundbackwards': '1.2'} -->\n",
    "\n",
    "\n",
    "<!-- Externaldocuments: applinalg, applinalg -->\n",
    "\n",
    "\n",
    "\n",
    "\n",
    "# Sound and Fourier series\n",
    "\n",
    "\n",
    "<!-- --- begin exercise --- -->\n",
    "\n",
    "## Example 1.1: Listen to different channels\n",
    "<div id=\"example:listen_different_channels\"></div>\n",
    "<!-- keywords = ipynb; m; fourierseries -->\n",
    "\n",
    "Our audio sample file actually has two sound channels. \n",
    "In such cases `x` is actually a matrix with two columns, and each column represents a sound channel. \n",
    "To listen to each channel we can run the following code."
   ]
  },
  {
   "cell_type": "code",
   "execution_count": 1,
   "metadata": {
    "collapsed": false
   },
   "outputs": [],
   "source": [
    "play(x[:, 0], fs)"
   ]
  },
  {
   "cell_type": "code",
   "execution_count": 2,
   "metadata": {
    "collapsed": false
   },
   "outputs": [],
   "source": [
    "play(x[:, 1], fs)"
   ]
  },
  {
   "cell_type": "markdown",
   "metadata": {},
   "source": [
    "You may not hear a difference between the two channels. \n",
    "There may still be differences, however, they may only be notable when the channels are sent to different loudspeakers. \n",
    "\n",
    "We will later apply different operations to sound. It is possible to apply these operations to the sound channels simultaneously, and we will mostly do this. \n",
    "Sounds we generate on our own, such as pure tones, will mostly be generated in one channel.\n",
    "\n",
    "<!-- --- end exercise --- -->\n",
    "\n",
    "\n",
    "\n",
    "\n",
    "<!-- --- begin exercise --- -->\n",
    "\n",
    "## Example 1.2: Playing the sound backwards\n",
    "<div id=\"soundbackwards\"></div>\n",
    "<!-- keywords = ipynb; m; fourierseries -->\n",
    "\n",
    "At times a popular game has been to play music backwards to try and find secret messages. \n",
    "In the old days of analog music on vinyl this was not so easy, but with digital sound it is quite simple; we just need to reverse the samples. \n",
    "To do this we just loop through the array and put the last samples first.\n",
    "\n",
    "Let $\\boldsymbol{x}=(x_i)_{i=0}^{N-1}$ be the samples of a digital sound. Then the samples $\\boldsymbol{y}=(y_i)_{i=0}^{N-1}$ of the reverse sound are given by"
   ]
  },
  {
   "cell_type": "markdown",
   "metadata": {},
   "source": [
    "$$\n",
    "y_i=x_{N-i-1},\\text{ for } i=0,1, \\dots N-1.\n",
    "$$"
   ]
  },
  {
   "cell_type": "markdown",
   "metadata": {},
   "source": [
    "When we reverse the sound samples, we have to reverse the elements in both sound channels. \n",
    "For our audio sample file this can be performed as follows."
   ]
  },
  {
   "cell_type": "code",
   "execution_count": 3,
   "metadata": {
    "collapsed": false
   },
   "outputs": [],
   "source": [
    "x, fs = audioread('sounds/castanets.wav')\n",
    "N = shape(x)[0]\n",
    "z = x[(N-1)::(-1), :]\n",
    "play(z, fs)"
   ]
  },
  {
   "cell_type": "markdown",
   "metadata": {},
   "source": [
    "Performing this on our sample file you generate a sound which sounds like\n",
    "[this](http://folk.uio.no/oyvindry/matinf2360/sounds/castanetsreverse.wav).\n",
    "\n",
    "<!-- --- end exercise --- -->\n",
    "\n",
    "\n",
    "\n",
    "\n",
    "<!-- --- begin exercise --- -->\n",
    "\n",
    "## Example 1.3: Playing pure tones.\n",
    "<div id=\"puresoundex\"></div>\n",
    "<!-- keywords = ipynb; m; fourierseries -->\n",
    "\n",
    "To create the samples of a pure tone we can write"
   ]
  },
  {
   "cell_type": "code",
   "execution_count": 4,
   "metadata": {
    "collapsed": false
   },
   "outputs": [],
   "source": [
    "t = linspace(0, antsec, fs*antsec)\n",
    "x = sin(2*pi*f*t)"
   ]
  },
  {
   "cell_type": "markdown",
   "metadata": {},
   "source": [
    "Here `f` is the frequency, `antsec` the length in seconds, and `fs` the sampling rate. \n",
    "\n",
    "We can now listen to the samples as follows."
   ]
  },
  {
   "cell_type": "code",
   "execution_count": 5,
   "metadata": {
    "collapsed": false
   },
   "outputs": [],
   "source": [
    "play(x, fs)"
   ]
  },
  {
   "cell_type": "markdown",
   "metadata": {},
   "source": [
    "You should hear a pleasant sound with a very distinct frequency. \n",
    "Most people can only perceive sounds in the range 20 - 20000 Hz: \n",
    "You are encouraged to experiment here to see if your hearing matches this range.\n",
    "\n",
    "\n",
    "\n",
    "\n",
    "\n",
    "\n",
    "\n",
    "<!-- --- end exercise --- -->\n",
    "\n",
    "\n",
    "\n",
    "\n",
    "<!-- --- begin exercise --- -->\n",
    "\n",
    "## Example 1.4: The square wave\n",
    "<div id=\"squarewaveex\"></div>\n",
    "<!-- keywords = ipynb; m; fourierseries -->\n",
    "\n",
    "There are many other ways in which a function can oscillate regularly. \n",
    "The *square wave* is one such, but we will see later that it can not be written as a simple, trigonometric function.\n",
    "Given a period $T$ we define the square wave to be $1$ on the first half of each period, and $-1$ on the second half:"
   ]
  },
  {
   "cell_type": "markdown",
   "metadata": {},
   "source": [
    "<!-- Equation labels as ordinary links -->\n",
    "<div id=\"squarewavedef\"></div>\n",
    "\n",
    "$$\n",
    "\\begin{equation} \\label{squarewavedef} \\tag{1}\n",
    "f_s(t)= \n",
    "\\begin{cases} 1, & \\text{if $0\\leq t<T/2$}; \\\\ \n",
    " -1, & \\text{if $T/2 \\leq t<T$}.\n",
    "\\end{cases}\n",
    "\\end{equation}\n",
    "$$"
   ]
  },
  {
   "cell_type": "markdown",
   "metadata": {},
   "source": [
    "The square wave with the same period we used for the pure tone can be plotted as follows:"
   ]
  },
  {
   "cell_type": "code",
   "execution_count": 6,
   "metadata": {
    "collapsed": false
   },
   "outputs": [],
   "source": [
    "T=1/440.\n",
    "t=linspace(0,T,100)\n",
    "    \n",
    "totransl=ones(100)*(-1)**(t>=T/2)\n",
    "plt.figure()\n",
    "plt.plot(concatenate([t, t+T, t+2*T, t+3*T, t+4*T]),tile(totransl,5), 'k-')"
   ]
  },
  {
   "cell_type": "markdown",
   "metadata": {},
   "source": [
    "Let us listen also listen to the square wave. We can first create the samples for one period."
   ]
  },
  {
   "cell_type": "code",
   "execution_count": 7,
   "metadata": {
    "collapsed": false
   },
   "outputs": [],
   "source": [
    "antsec = 3\n",
    "samplesperperiod = fs/f # The number of samples for one period\n",
    "oneperiod = hstack([ones((samplesperperiod/2),dtype=float), \\\n",
    "                    -ones((samplesperperiod/2),dtype=float)])"
   ]
  },
  {
   "cell_type": "markdown",
   "metadata": {},
   "source": [
    "Then we repeat one period to obtain a sound with the desired length, and play it as follows."
   ]
  },
  {
   "cell_type": "code",
   "execution_count": 8,
   "metadata": {
    "collapsed": false
   },
   "outputs": [],
   "source": [
    "x = tile(oneperiod, antsec*f)\n",
    "play(x, fs)"
   ]
  },
  {
   "cell_type": "markdown",
   "metadata": {},
   "source": [
    "We hear a sound which seems to have the same \"base frequency\" as $\\sin(2\\pi 440 t)$,\n",
    "but the square wave is less pleasant to listen to: \n",
    "There seems to be some \"sharp corners\" in the sound, translating into a rather shrieking, piercing sound. \n",
    "We will later explain this by the fact that the square wave can be viewed as a sum of many frequencies, \n",
    "and that many frequencies pollute the sound so that it is not pleasant to listen to.\n",
    "\n",
    "\n",
    "\n",
    "\n",
    "\n",
    "<!-- --- end exercise --- -->\n",
    "\n",
    "\n",
    "\n",
    "\n",
    "<!-- --- begin exercise --- -->\n",
    "\n",
    "## Exercise 1.9: Playing with different sample rates\n",
    "<div id=\"ex:playwithdifferentfs\"></div>\n",
    "<!-- keywords = ipynb; m; fourierseries -->\n",
    "\n",
    "If we provide another samples rate `fs` to the `play` functions, \n",
    "the sound card will assume a different time distance between neighboring samples. \n",
    "Play and listen to the audio sample file again, but with three different sample rates: `2*fs`, `fs`, and `fs/2`, \n",
    "where `fs` is the sample rate returned by `audioread`.\n",
    "\n",
    "\n",
    "<!-- --- begin solution of exercise --- -->\n",
    "**Solution.**\n",
    "The following code can be used"
   ]
  },
  {
   "cell_type": "code",
   "execution_count": 9,
   "metadata": {
    "collapsed": false
   },
   "outputs": [],
   "source": [
    "play(x, fs)"
   ]
  },
  {
   "cell_type": "code",
   "execution_count": 10,
   "metadata": {
    "collapsed": false
   },
   "outputs": [],
   "source": [
    "play(x, 2*fs)"
   ]
  },
  {
   "cell_type": "code",
   "execution_count": 11,
   "metadata": {
    "collapsed": false
   },
   "outputs": [],
   "source": [
    "play(x, fs/2)"
   ]
  },
  {
   "cell_type": "markdown",
   "metadata": {},
   "source": [
    "The sample file `castanets.wav` played at double sampling rate sounds like\n",
    "[this](http://folk.uio.no/oyvindry/matinf2360/sounds/castanetsdouble.wav), \n",
    "while it sounds like \n",
    "[this](http://folk.uio.no/oyvindry/matinf2360/sounds/castanetshalf.wav) \n",
    "when it is played with half the sampling rate.\n",
    "\n",
    "<!-- --- end solution of exercise --- -->\n",
    "\n",
    "<!-- --- end exercise --- -->\n",
    "\n",
    "\n",
    "\n",
    "\n",
    "<!-- --- begin exercise --- -->\n",
    "\n",
    "## Exercise 1.11: Playing the triangle wave\n",
    "<div id=\"triangleexercise\"></div>\n",
    "<!-- keywords = ipynb; fourierseries -->\n",
    "\n",
    "Repeat what you did in Example 1.4, \n",
    "but now for the triangle wave of Example 1.5. \n",
    "Start by generating the samples for one period of the triangle wave, \n",
    "then plot five periods, before you generate the sound over a period of three seconds, and play it.\n",
    "Verify that you generate the same sound as in Example 1.5.\n",
    "\n",
    "\n",
    "<!-- --- begin solution of exercise --- -->\n",
    "**Solution.**\n",
    "The triangle wave can be plotted as follows:"
   ]
  },
  {
   "cell_type": "code",
   "execution_count": 12,
   "metadata": {
    "collapsed": false
   },
   "outputs": [],
   "source": [
    "totransl=1-4*abs(t-T/2)/T\n",
    "plt.figure()\n",
    "plt.plot(concatenate([t, t+T, t+2*T, t+3*T, t+4*T]),tile(totransl,5), 'k-')"
   ]
  },
  {
   "cell_type": "markdown",
   "metadata": {},
   "source": [
    "The samples for one period are created as follows."
   ]
  },
  {
   "cell_type": "code",
   "execution_count": 13,
   "metadata": {
    "collapsed": false
   },
   "outputs": [],
   "source": [
    "oneperiod = hstack([linspace(-1, 1, samplesperperiod/2), \\\n",
    "                    linspace(1, -1, samplesperperiod/2)])"
   ]
  },
  {
   "cell_type": "markdown",
   "metadata": {},
   "source": [
    "Then we repeat one period to obtain a sound with the desired length, and play it as follows."
   ]
  },
  {
   "cell_type": "code",
   "execution_count": 14,
   "metadata": {
    "collapsed": false
   },
   "outputs": [],
   "source": [
    "x = tile(oneperiod, antsec*f)\n",
    "play(x, fs)"
   ]
  },
  {
   "cell_type": "markdown",
   "metadata": {},
   "source": [
    "<!-- --- end solution of exercise --- -->\n",
    "\n",
    "<!-- --- end exercise --- -->\n",
    "\n",
    "\n",
    "\n",
    "\n",
    "<!-- --- begin exercise --- -->\n",
    "\n",
    "## Example 1.12: Fourier coefficients of the square wave\n",
    "<div id=\"exsq1\"></div>\n",
    "<!-- keywords = ipynb; m; fourierseries -->\n",
    "\n",
    "Let us compute the Fourier coefficients of the square wave, \n",
    "as defined by Equation (1.1) in Example 1.4. \n",
    "If we first use Equation (1.8) we obtain"
   ]
  },
  {
   "cell_type": "markdown",
   "metadata": {},
   "source": [
    "$$\n",
    "a_0=\\frac{1}{T}\\int_{0}^{T}f_s(t)dt=\\frac{1}{T}\\int_{0}^{T/2}dt-\\frac{1}{T}\\int_{T/2}^Tdt=0.\n",
    "$$"
   ]
  },
  {
   "cell_type": "markdown",
   "metadata": {},
   "source": [
    "Using Equation (1.9) we get"
   ]
  },
  {
   "cell_type": "markdown",
   "metadata": {},
   "source": [
    "$$\n",
    "\\begin{align*}\n",
    "a_n &= \\frac{2}{T}\\int_0^T f_s(t) \\cos(2\\pi nt/T)dt \\\\ \n",
    "    &= \\frac{2}{T}\\int_0^{T/2} \\cos(2\\pi nt/T)dt-\\frac{2}{T}\\int_{T/2}^T\\cos(2\\pi nt/T)dt \\\\ \n",
    "    &= \\frac{2}{T}\\left[  \\frac{T}{2\\pi n}\\sin(2\\pi nt/T) \\right]_0^{T/2} - \\frac{2}{T}\\left[ \\frac{T}{2\\pi n}\\sin(2\\pi nt/T) \\right]_{T/2}^T \\\\ \n",
    "    &= \\frac{2}{T}\\frac{T}{2\\pi n}((\\sin(n\\pi)-\\sin 0) - (\\sin(2n\\pi)-\\sin(n\\pi))=0.\n",
    "\\end{align*}\n",
    "$$"
   ]
  },
  {
   "cell_type": "markdown",
   "metadata": {},
   "source": [
    "Finally, using Equation (1.10) we obtain"
   ]
  },
  {
   "cell_type": "markdown",
   "metadata": {},
   "source": [
    "$$\n",
    "\\begin{align*}\n",
    "b_n &= \\frac{2}{T}\\int_0^T f_s(t) \\sin(2\\pi nt/T)dt \\\\ \n",
    "    &= \\frac{2}{T}\\int_0^{T/2} \\sin(2\\pi nt/T)dt-\\frac{2}{T}\\int_{T/2}^T\\sin(2\\pi nt/T)dt \\\\ \n",
    "    &= \\frac{2}{T}\\left[ -\\frac{T}{2\\pi n}\\cos(2\\pi nt/T) \\right]_0^{T/2} + \\frac{2}{T}\\left[ \\frac{T}{2\\pi n}\\cos(2\\pi nt/T) \\right]_{T/2}^T \\\\ \n",
    "    &= \\frac{2}{T}\\frac{T}{2\\pi n}((-\\cos(n\\pi)+\\cos 0) + (\\cos(2n\\pi)-\\cos(n\\pi))) \\\\ \n",
    "    &= \\frac{2(1-\\cos(n\\pi)}{n\\pi}\\\\ \n",
    "    & = \\begin{cases} 0, & \\text{if $n$ is even}; \\\\ 4/(n\\pi), & \\text{if $n$ is odd}.\\end{cases}\n",
    "\\end{align*}\n",
    "$$"
   ]
  },
  {
   "cell_type": "markdown",
   "metadata": {},
   "source": [
    "In other words, only the $b_n$-coefficients with $n$ odd in the Fourier series are nonzero. \n",
    "This means that the Fourier series of the square wave is"
   ]
  },
  {
   "cell_type": "markdown",
   "metadata": {},
   "source": [
    "<!-- Equation labels as ordinary links -->\n",
    "<div id=\"sqwavefourier\"></div>\n",
    "\n",
    "$$\n",
    "\\begin{equation} \\label{sqwavefourier} \\tag{2}\n",
    "  \\frac{4}{\\pi}\\sin(2\\pi t/T) + \\frac{4}{3\\pi}\\sin(2\\pi 3t/T) + \\frac{4}{5\\pi}\\sin(2\\pi 5t/T) + \\frac{4}{7\\pi}\\sin(2\\pi 7t/T) + \\cdots.\n",
    "\\end{equation}\n",
    "$$"
   ]
  },
  {
   "cell_type": "markdown",
   "metadata": {},
   "source": [
    "With $N=20$, there are $10$ trigonometric terms in this sum. \n",
    "The corresponding Fourier series can be plotted over one period with the following code."
   ]
  },
  {
   "cell_type": "code",
   "execution_count": 15,
   "metadata": {
    "collapsed": false
   },
   "outputs": [],
   "source": [
    "N = 20\n",
    "T = 1/440.\n",
    "t = linspace(0, T, 100)\n",
    "x = zeros(len(t))\n",
    "for k in range(1, N + 1, 2):\n",
    "    x += (4/(k*pi))*sin(2*pi*k*t/T)\n",
    "plt.figure()\n",
    "plt.plot(t, x, 'k-')"
   ]
  },
  {
   "cell_type": "markdown",
   "metadata": {},
   "source": [
    "To see that the Fourier coefficients converge to 0, let us also plot the first $100$ values of $b_n$:"
   ]
  },
  {
   "cell_type": "code",
   "execution_count": 16,
   "metadata": {
    "collapsed": false
   },
   "outputs": [],
   "source": [
    "k=arange(1,102,2)\n",
    "plt.figure()\n",
    "plt.plot(k,4/(k*pi),'k-')"
   ]
  },
  {
   "cell_type": "markdown",
   "metadata": {},
   "source": [
    "Even though $f$ oscillates regularly between $-1$ and $1$ with period $T$, \n",
    "the discontinuities mean that it is far from the simple $\\sin(2\\pi t/T)$ \n",
    "which corresponds to a pure tone of frequency $1/T$. \n",
    "Clearly $b_1\\sin(2\\pi t/T)$ is the dominant term in the Fourier series. \n",
    "This is not surprising since the square wave has the same period as this term, \n",
    "but the additional terms in the Fourier series pollute the pure sound. \n",
    "As we include more and more of these, we gradually approach the square wave.\n",
    "\n",
    "There is a connection between how fast the Fourier coefficients go to zero, and how we perceive the sound. A pure sine sound has only one nonzero coefficient,\n",
    "while the square wave Fourier coefficients decrease as $1/n$, making the sound less pleasant. This explains what we heard when we listened to the sound in\n",
    "Example 1.4. Also, it explains why we heard the same pitch as the pure tone, since the first frequency in the Fourier series has the same\n",
    "frequency as the pure tone we listened to, and since this had the highest value. \n",
    "\n",
    "Let us listen to the Fourier series approximations of the square wave."
   ]
  },
  {
   "cell_type": "code",
   "execution_count": 17,
   "metadata": {
    "collapsed": false
   },
   "outputs": [],
   "source": [
    "x = tile(oneperiod, antsec/T)\n",
    "play(x, fs)"
   ]
  },
  {
   "cell_type": "markdown",
   "metadata": {},
   "source": [
    "<!-- --- end exercise --- -->\n",
    "\n",
    "\n",
    "\n",
    "\n",
    "<!-- --- begin exercise --- -->\n",
    "\n",
    "## Exercise 1.16: Playing the Fourier series of the triangle wave\n",
    "<div id=\"triwavetrunk\"></div>\n",
    "<!-- keywords = ipynb; m; fourierseries -->\n",
    "\n",
    "\n",
    "**a)**\n",
    "Plot the Fourier series of the triangle wave.\n",
    "\n",
    "\n",
    "<!-- --- begin solution of exercise --- -->\n",
    "**Solution.**\n",
    "The following code can be used."
   ]
  },
  {
   "cell_type": "code",
   "execution_count": 18,
   "metadata": {
    "collapsed": false
   },
   "outputs": [],
   "source": [
    "t = linspace(0, T, 100)\n",
    "x = zeros(len(t))\n",
    "for k in range(1, 20, 2):\n",
    "    x -= (8/(k*pi)**2)*cos(2*pi*k*t/T)\n",
    "plt.figure()\n",
    "plt.plot(t, x, 'k-')"
   ]
  },
  {
   "cell_type": "markdown",
   "metadata": {},
   "source": [
    "<!-- --- end solution of exercise --- -->\n",
    "\n",
    "**b)**\n",
    "Write code so that you can listen to the Fourier series of the triangle wave.  \n",
    "How high must you choose $N$ for the Fourier series to be indistuingishable from the square/triangle waves themselves?\n",
    "\n",
    "\n",
    "<!-- --- begin solution of exercise --- -->\n",
    "**Solution.**\n",
    "The following code can be used."
   ]
  },
  {
   "cell_type": "code",
   "execution_count": 19,
   "metadata": {
    "collapsed": false
   },
   "outputs": [],
   "source": [
    "x = tile(oneperiod, antsec/T)\n",
    "play(x, fs)"
   ]
  },
  {
   "cell_type": "markdown",
   "metadata": {},
   "source": [
    "<!-- --- end solution of exercise --- -->\n",
    "\n",
    "<!-- --- end exercise --- -->\n",
    "\n",
    "\n",
    "\n",
    "\n",
    "<!-- --- begin exercise --- -->\n",
    "\n",
    "## Exercise 1.22: Fourier series for polynomials\n",
    "<div id=\"ex:fourierseriespolynomials\"></div>\n",
    "<!-- keywords = ipynb; m; fourierseries -->\n",
    "\n",
    "Write down difference equations for finding the Fourier coefficients of $f(t)=t^{k+1}$ from those of $f(t)=t^k$, and write a program which uses this recursion. \n",
    "Use the program to verify what you computed in Exercise 1.21.\n",
    "\n",
    "\n",
    "<!-- --- begin solution of exercise --- -->\n",
    "**Solution.**\n",
    "Let us define $a_{n,k},b_{n,k}$ as the Fourier coefficients of $t^k$. When $k>0$ and $n>0$, integration by parts gives us the following difference equations:"
   ]
  },
  {
   "cell_type": "markdown",
   "metadata": {},
   "source": [
    "$$\n",
    "\\begin{align*}\n",
    "a_{n,k} &= \\frac{2}{T} \\int_0^T t^{k}\\cos(2\\pi nt/T)dt \\\\ \n",
    "        &=\\frac{2}{T}\\left( \\left[ \\frac{T}{2\\pi n} t^k\\sin(2\\pi nt/T) \\right]_0^T - \\frac{kT}{2\\pi n}\\int_0^T t^{k-1}\\sin(2\\pi nt/T)dt\\right) \\\\ \n",
    "        &=-\\frac{kT}{2\\pi n}b_{n,k-1} \\\\ \n",
    "b_{n,k} &= \\frac{2}{T} \\int_0^T t^{k}\\sin(2\\pi nt/T)dt \\\\ \n",
    "        &=\\frac{2}{T}\\left( \\left[ -\\frac{T}{2\\pi n} t^k\\cos(2\\pi nt/T) \\right]_0^T + \\frac{kT}{2\\pi n}\\int_0^T t^{k-1}\\cos(2\\pi nt/T)dt\\right) \\\\ \n",
    "        &= -\\frac{T^k}{\\pi n} +  \\frac{kT}{2\\pi n}a_{n,k-1}.\n",
    "\\end{align*}\n",
    "$$"
   ]
  },
  {
   "cell_type": "markdown",
   "metadata": {},
   "source": [
    "When $n>0$, these can be used to express $a_{n,k},b_{n,k}$ in terms of $a_{n,0},b_{n,0}$, for which we clearly have $a_{n,0}=b_{n,0}=0$. \n",
    "For $n=0$ we have that $a_{0,k}=\\frac{T^k}{k+1}$ for all $k$. The following program computes $a_{n,k},b_{n,k}$ recursively when $n>0$."
   ]
  },
  {
   "cell_type": "code",
   "execution_count": 20,
   "metadata": {
    "collapsed": false
   },
   "outputs": [],
   "source": [
    "def findfouriercoeffs(n, k, T):\n",
    "    ank, bnk = 0, 0\n",
    "    if k > 0:\n",
    "        ankprev, bnkprev = findfouriercoeffs(n,k-1,T)\n",
    "        ank = -k*T*bnkprev/(2*pi*n)\n",
    "        bnk = -T**k/(pi*n) + k*T*ankprev/(2*pi*n)\n",
    "    return ank, bnk"
   ]
  },
  {
   "cell_type": "markdown",
   "metadata": {},
   "source": [
    "<!-- --- end solution of exercise --- -->\n",
    "\n",
    "<!-- --- end exercise --- -->\n",
    "\n",
    "\n",
    "\n",
    "\n",
    "<!-- --- begin exercise --- -->\n",
    "\n",
    "## Example 1.24: Complex Fourier coefficients of a simple function\n",
    "<div id=\"ex:fourierpuretoneshortened\"></div>\n",
    "<!-- keywords = ipynb; m; fourierseries -->\n",
    "\n",
    "Let us consider the pure sound $f(t)=e^{2\\pi it/T_2}$ with period $T_2$, but let us consider it only on the interval $[0,T]$ instead, where $T<T_2$. \n",
    "Note that this $f$ is not periodic, since we only consider the part $[0,T]$ of the period $[0,T_2]$. The Fourier coefficients are"
   ]
  },
  {
   "cell_type": "markdown",
   "metadata": {},
   "source": [
    "$$\n",
    "\\begin{align*}\n",
    "y_n &= \\frac{1}{T}\\int_0^T e^{2\\pi it/T_2}e^{-2\\pi int/T}dt = \\frac{1}{2\\pi iT(1/T_2-n/T)} \\left[ e^{2\\pi it(1/T_2-n/T)}\\right]_0^T \\\\ \n",
    "&= \\frac{1}{2\\pi i(T/T_2-n)}\\left( e^{2\\pi iT/T_2} - 1 \\right).\n",
    "\\end{align*}\n",
    "$$"
   ]
  },
  {
   "cell_type": "markdown",
   "metadata": {},
   "source": [
    "Here it is only the term $1/(T/T_2-n)$ which depends on $n$, so that $y_n$ can only be large when $n$ is close $T/T_2$. \n",
    "In Figure 1.8 we have plotted $|y_n|$ for two different combinations of $T,T_2$.\n",
    "\n",
    "<!-- dom:FIGURE: [fourierseries/fig/fourierpuretoneshortened.png, width=400 frac=1.0] Plot of $|y_n|$ when $f(t)=e^{2\\pi it/T_2}$, and $T_2>T$. Left: $T/T_2=0.5$. Right: $T/T_2=0.9$. <div id=\"fig:fourierpuretoneshortened\"></div> -->\n",
    "<!-- begin figure -->\n",
    "<div id=\"fig:fourierpuretoneshortened\"></div>\n",
    "\n",
    "<p>Plot of $|y_n|$ when $f(t)=e^{2\\pi it/T_2}$, and $T_2>T$. Left: $T/T_2=0.5$. Right: $T/T_2=0.9$.</p>\n",
    "<img src=\"fourierseries/fig/fourierpuretoneshortened.png\" width=400>\n",
    "\n",
    "<!-- end figure -->\n",
    "\n",
    "\n",
    "In both examples it is seen that many Fourier coefficients contribute, but this is more visible when $T/T_2=0.5$. When $T/T_2=0.9$, most contribution is seen to be\n",
    "in the $y_1$-coefficient. This sounds reasonable, since $f$ then is closest to the pure tone $f(t)=e^{2\\pi it/T}$ of frequency $1/T$ (which in turn has $y_1=1$\n",
    "and all other $y_n=0$).\n",
    "\n",
    "Apart from computing complex Fourier series, there is an important lesson to be learned from this example: In order for a periodic function to be\n",
    "approximated by other periodic functions, their period must somehow match.\n",
    "\n",
    "<!-- --- end exercise --- -->\n",
    "\n",
    "\n",
    "\n",
    "\n",
    "<!-- --- begin exercise --- -->\n",
    "\n",
    "## Example 1.25: Complex Fourier coefficients of composite function\n",
    "<div id=\"ex:fourierpuretone2stk\"></div>\n",
    "<!-- keywords = ipynb; m; fourierseries -->\n",
    "\n",
    "What often is the case is that a sound changes in content over time. Assume that it is equal to a pure tone of frequency $n_1/T$ on $[0,T/2)$, and equal to a pure\n",
    "tone of frequency $n_2/T$ on $[T/2,T)$, i.e."
   ]
  },
  {
   "cell_type": "markdown",
   "metadata": {},
   "source": [
    "$$\n",
    "f(t) = \\begin{cases} e^{2\\pi in_1t/T} & \\text{on } [0,T_2] \\\\ e^{2\\pi in_2t/T} & \\text{ on} [T_2,T) \\end{cases}.\n",
    "$$"
   ]
  },
  {
   "cell_type": "markdown",
   "metadata": {},
   "source": [
    "When $n\\neq n_1,n_2$ we have that"
   ]
  },
  {
   "cell_type": "markdown",
   "metadata": {},
   "source": [
    "$$\n",
    "\\begin{align*}\n",
    "y_n &= \\frac{1}{T} \\left( \\int_0^{T/2} e^{2\\pi in_1t/T}e^{-2\\pi int/T}dt + \\int_{T/2}^T e^{2\\pi in_2t/T}e^{-2\\pi int/T}dt \\right) \\\\ \n",
    "&= \\frac{1}{T}\\left( \\left[ \\frac{T}{2\\pi i(n_1-n)}e^{2\\pi i(n_1-n)t/T} \\right]_0^{T/2} \n",
    "                   + \\left[ \\frac{T}{2\\pi i(n_2-n)}e^{2\\pi i(n_2-n)t/T} \\right]_{T/2}^T \\right) \\\\ \n",
    "&= \\frac{e^{\\pi i(n_1-n)}-1}{2\\pi i(n_1-n)} + \\frac{1-e^{\\pi i(n_2-n)}}{2\\pi i(n_2-n)}. \n",
    "\\end{align*}\n",
    "$$"
   ]
  },
  {
   "cell_type": "markdown",
   "metadata": {},
   "source": [
    "Let us restrict to the case when $n_1$ and $n_2$ are both even. We see that"
   ]
  },
  {
   "cell_type": "markdown",
   "metadata": {},
   "source": [
    "$$\n",
    "y_n = \\begin{cases} \n",
    "         \\frac{1}{2}+\\frac{1}{\\pi i(n_2-n_1)} & n=n_1,n_2\\\\ \n",
    "         0                                    & n\\text{ even }, n\\neq n_1,n_2\\\\ \n",
    "         \\frac{n_1-n_2}{\\pi i(n_1-n)(n_2-n)}  & n\\text{ odd }\n",
    "      \\end{cases}\n",
    "$$"
   ]
  },
  {
   "cell_type": "markdown",
   "metadata": {},
   "source": [
    "Here we have computed the cases $n=n_1$ and $n=n_2$ as above. \n",
    "In Figure 1.9 we have plotted $|y_n|$ for two different combinations of $n_1,n_2$. \n",
    "\n",
    "<!-- dom:FIGURE: [fourierseries/fig/fourierpuretone2stk.png, width=400 frac=1.0] Plot of $|y_n|$ when we have two different pure tones at the different parts of a period. Left: $n_1=10$, $n_2=12$. Right: $n_1=2$, $n_2=20$. <div id=\"fig:fourierpuretone2stk\"></div> -->\n",
    "<!-- begin figure -->\n",
    "<div id=\"fig:fourierpuretone2stk\"></div>\n",
    "\n",
    "<p>Plot of $|y_n|$ when we have two different pure tones at the different parts of a period. Left: $n_1=10$, $n_2=12$. Right: $n_1=2$, $n_2=20$.</p>\n",
    "<img src=\"fourierseries/fig/fourierpuretone2stk.png\" width=400>\n",
    "\n",
    "<!-- end figure -->\n",
    "\n",
    "\n",
    "We see that, when $n_1,n_2$ are close, the Fourier coefficients are close to those of a pure tone with $n\\approx n_1,n_2$, but that also other\n",
    "frequencies contribute. When $n_1,n_2$ are further apart, we see that the Fourier coefficients are like the sum of the two base frequencies, but that other\n",
    "frequencies contribute also here.\n",
    "\n",
    "\n",
    "\n",
    "\n",
    "\n",
    "\n",
    "\n",
    "There is an important lesson to be learned from this as well: We should be aware of changes in a sound over time, and it may not be smart to use a\n",
    "frequency representation over a large interval when we know that there are simpler frequency representations on the smaller intervals. The following example shows\n",
    "that, in some cases it is not necessary to compute the Fourier integrals at all, in order to compute the Fourier series.\n",
    "\n",
    "<!-- --- end exercise --- -->\n",
    "\n",
    "\n",
    "\n",
    "\n",
    "<!-- --- begin exercise --- -->\n",
    "\n",
    "## Example 1.35: Periodic extension\n",
    "<div id=\"symfuncex\"></div>\n",
    "<!-- keywords = ipynb; m; fourierseries -->\n",
    "\n",
    "Let $f$ be the function with period $T$ defined by $f(t)=2t/T-1$ for $0\\leq t<T$. \n",
    "In each period the function increases linearly from $-1$ to $1$. Because $f$ is discontinuous at the boundaries, we would expect the Fourier\n",
    "series to converge slowly. The Fourier series is a sine-series since $f$ is antisymmetric, and we can compute $b_n$ as"
   ]
  },
  {
   "cell_type": "markdown",
   "metadata": {},
   "source": [
    "$$\n",
    "\\begin{align*}\n",
    "  b_n &= \\frac{2}{T}\\int_0^T \\frac{2}{T}\\left(t-\\frac{T}{2}\\right)\\sin(2\\pi nt/T)dt = \\frac{4}{T^2}\\int_0^{T} \\left(t-\\frac{T}{2}\\right)\\sin(2\\pi nt/T)dt \\\\ \n",
    "      &= \\frac{4}{T^2}\\int_0^{T} t\\sin(2\\pi nt/T)dt - \\frac{2}{T}\\int_0^{T} \\sin(2\\pi nt/T)dt = -\\frac{2}{\\pi n},\n",
    "\\end{align*}\n",
    "$$"
   ]
  },
  {
   "cell_type": "markdown",
   "metadata": {},
   "source": [
    "so that"
   ]
  },
  {
   "cell_type": "markdown",
   "metadata": {},
   "source": [
    "$$\n",
    "f_N(t) = - \\sum_{n=1}^N \\frac{2}{n\\pi}\\sin(2\\pi nt/T),\n",
    "$$"
   ]
  },
  {
   "cell_type": "markdown",
   "metadata": {},
   "source": [
    "which indeed converges slowly to $0$. Let us now instead consider the symmetric extension of $f$. Clearly this is the triangle wave with period $2T$, and the Fourier series of this was"
   ]
  },
  {
   "cell_type": "markdown",
   "metadata": {},
   "source": [
    "$$\n",
    "(\\breve{f})_N(t) = -\\sum_{n\\leq N\\text{, $n$ odd}} \\frac{8}{n^2\\pi^2}\\cos(2\\pi nt/(2T)).\n",
    "$$"
   ]
  },
  {
   "cell_type": "markdown",
   "metadata": {},
   "source": [
    "The second series clearly converges faster than the first, since its Fourier coefficients are $a_n=-8/(n^2\\pi^2)$ (with $n$ odd), while the Fourier coefficients in the first\n",
    "series are $b_n=-2/(n\\pi)$. \n",
    "\n",
    "If we use $T=1/440$, the symmetric extension has period $1/220$, which gives a triangle wave where the first term in the Fourier series has frequency 220Hz. \n",
    "Listening to this we should hear something resembling a 220Hz pure tone, since the first term in the Fourier series is the most dominating in the triangle wave.\n",
    "Listening to the periodic extension we should hear a different sound. The first term in the Fourier series has frequency 440Hz, but this drounds a bit in the contribution of the other terms in the\n",
    "Fourier series, due to the slow convergence of the Fourier series, just as for the square wave.\n",
    "\n",
    "Let us plot the Fourier series with $N=7$ terms for $f$. \n",
    "These are shown in Figure 1.11. \n",
    "\n",
    "<!-- dom:FIGURE: [fourierseries/fig/trisym.png, width=400 frac=1.0] The Fourier series with $N=7$ terms of the periodic (left) and symmetric (right) extensions of the function in Example 1.35. <div id=\"fig:trisym\"></div> -->\n",
    "<!-- begin figure -->\n",
    "<div id=\"fig:trisym\"></div>\n",
    "\n",
    "<p>The Fourier series with $N=7$ terms of the periodic (left) and symmetric (right) extensions of the function in Example 1.35.</p>\n",
    "<img src=\"fourierseries/fig/trisym.png\" width=400>\n",
    "\n",
    "<!-- end figure -->\n",
    "\n",
    "\n",
    "It is clear from the plot that the Fourier series for $f$ itself is\n",
    "not a very good approximation, while we cannot differentiate between the Fourier series and the function itself for the symmetric extension.\n",
    "\n",
    "<!-- --- end exercise --- -->\n",
    "\n",
    "\n",
    "# Digital sound and Discrete Fourier analysis"
   ]
  }
 ],
 "metadata": {},
 "nbformat": 4,
 "nbformat_minor": 2
}
